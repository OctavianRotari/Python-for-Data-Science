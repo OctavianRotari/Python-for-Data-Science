{
 "cells": [
  {
   "cell_type": "markdown",
   "id": "391571aa-bdf5-4d7b-b8e7-3147371ce879",
   "metadata": {},
   "source": [
    "# California Housing Price Prediction"
   ]
  },
  {
   "cell_type": "markdown",
   "id": "4575a95e-9bb4-4bde-9fd1-89680372572b",
   "metadata": {},
   "source": [
    "DESCRIPTION\n",
    "\n",
    "Background of Problem Statement :\n",
    "\n",
    "The US Census Bureau has published California Census Data which has 10 types of metrics such as the population, median income, median housing price, and so on for each block group in California. The dataset also serves as an input for project scoping and tries to specify the functional and nonfunctional requirements for it.\n",
    "\n",
    "Problem Objective :\n",
    "\n",
    "The project aims at building a model of housing prices to predict median house values in California using the provided dataset. This model should learn from the data and be able to predict the median housing price in any district, given all the other metrics.\n",
    "\n",
    "Districts or block groups are the smallest geographical units for which the US Census Bureau\n",
    "publishes sample data (a block group typically has a population of 600 to 3,000 people). There are 20,640 districts in the project dataset.\n",
    "\n",
    "Domain: Finance and Housing\n",
    "\n",
    "Analysis Tasks to be performed:\n",
    "\n",
    "1. Build a model of housing prices to predict median house values in California using the provided dataset.\n",
    "\n",
    "2. Train the model to learn from the data to predict the median housing price in any district, given all the other metrics.\n",
    "\n",
    "3. Predict housing prices based on median_income and plot the regression chart for it.\n",
    "\n",
    "1. Load the data :\n",
    "\n",
    "Read the “housing.csv” file from the folder into the program.\n",
    "Print first few rows of this data.\n",
    "Extract input (X) and output (Y) data from the dataset.\n",
    "2. Handle missing values :\n",
    "\n",
    "Fill the missing values with the mean of the respective column.\n",
    "3. Encode categorical data :\n",
    "\n",
    "Convert categorical column in the dataset to numerical data.\n",
    "4. Split the dataset : \n",
    "\n",
    "Split the data into 80% training dataset and 20% test dataset.\n",
    "5. Standardize data :\n",
    "\n",
    "Standardize training and test datasets.\n",
    "6. Perform Linear Regression : \n",
    "\n",
    "Perform Linear Regression on training data.\n",
    "Predict output for test dataset using the fitted model.\n",
    "Print root mean squared error (RMSE) from Linear Regression.\n",
    "            [ HINT: Import mean_squared_error from sklearn.metrics ]\n",
    "\n",
    "7. Bonus exercise: Perform Linear Regression with one independent variable :\n",
    "\n",
    "Extract just the median_income column from the independent variables (from X_train and X_test).\n",
    "Perform Linear Regression to predict housing values based on median_income.\n",
    "Predict output for test dataset using the fitted model.\n",
    "Plot the fitted model for training data as well as for test data to check if the fitted model satisfies the test data.\n",
    "Dataset Description :\n",
    "\n",
    "Field\tDescription  \n",
    "longitude\t(signed numeric - float) : Longitude value for the block in California, USA  \n",
    "latitude\t(numeric - float ) : Latitude value for the block in California, USA  \n",
    "housing_median_age\t(numeric - int ) : Median age of the house in the block  \n",
    "total_rooms\t(numeric - int ) : Count of the total number of rooms (excluding bedrooms) in all houses in the block  \n",
    "total_bedrooms\t(numeric - float ) : Count of the total number of bedrooms in all houses in the block  \n",
    "population\t(numeric - int ) : Count of the total number of population in the block  \n",
    "households\t(numeric - int ) : Count of the total number of households in the block  \n",
    "median_income\t(numeric - float ) : Median of the total household income of all the houses in the block  \n",
    "ocean_proximity\t(numeric - categorical ) : Type of the landscape of the block [ Unique Values : 'NEAR BAY', '<1H OCEAN', 'INLAND', 'NEAR OCEAN', 'ISLAND'  ]  \n",
    "median_house_value\t(numeric - int ) : Median of the household prices of all the houses in the block  \n",
    " \n",
    "\n",
    "Dataset Size : 20640 rows x 10 columns"
   ]
  },
  {
   "cell_type": "code",
   "execution_count": 206,
   "id": "fec8267a-35bc-42ad-9457-a4530eccb77b",
   "metadata": {},
   "outputs": [],
   "source": [
    "import pandas as pd\n",
    "import numpy as np"
   ]
  },
  {
   "cell_type": "code",
   "execution_count": 207,
   "id": "9dabe4c7-d4ac-4aa4-aecd-37deee7e796f",
   "metadata": {},
   "outputs": [],
   "source": [
    "ca=pd.read_excel('./dataset/1553768847_housing.xlsx')"
   ]
  },
  {
   "cell_type": "code",
   "execution_count": 208,
   "id": "3fbf692c-757a-4e21-a3d6-5728e1b037f9",
   "metadata": {},
   "outputs": [
    {
     "data": {
      "text/html": [
       "<div>\n",
       "<style scoped>\n",
       "    .dataframe tbody tr th:only-of-type {\n",
       "        vertical-align: middle;\n",
       "    }\n",
       "\n",
       "    .dataframe tbody tr th {\n",
       "        vertical-align: top;\n",
       "    }\n",
       "\n",
       "    .dataframe thead th {\n",
       "        text-align: right;\n",
       "    }\n",
       "</style>\n",
       "<table border=\"1\" class=\"dataframe\">\n",
       "  <thead>\n",
       "    <tr style=\"text-align: right;\">\n",
       "      <th></th>\n",
       "      <th>longitude</th>\n",
       "      <th>latitude</th>\n",
       "      <th>housing_median_age</th>\n",
       "      <th>total_rooms</th>\n",
       "      <th>total_bedrooms</th>\n",
       "      <th>population</th>\n",
       "      <th>households</th>\n",
       "      <th>median_income</th>\n",
       "      <th>ocean_proximity</th>\n",
       "      <th>median_house_value</th>\n",
       "    </tr>\n",
       "  </thead>\n",
       "  <tbody>\n",
       "    <tr>\n",
       "      <th>0</th>\n",
       "      <td>-122.23</td>\n",
       "      <td>37.88</td>\n",
       "      <td>41</td>\n",
       "      <td>880</td>\n",
       "      <td>129.0</td>\n",
       "      <td>322</td>\n",
       "      <td>126</td>\n",
       "      <td>8.3252</td>\n",
       "      <td>NEAR BAY</td>\n",
       "      <td>452600</td>\n",
       "    </tr>\n",
       "    <tr>\n",
       "      <th>1</th>\n",
       "      <td>-122.22</td>\n",
       "      <td>37.86</td>\n",
       "      <td>21</td>\n",
       "      <td>7099</td>\n",
       "      <td>1106.0</td>\n",
       "      <td>2401</td>\n",
       "      <td>1138</td>\n",
       "      <td>8.3014</td>\n",
       "      <td>NEAR BAY</td>\n",
       "      <td>358500</td>\n",
       "    </tr>\n",
       "    <tr>\n",
       "      <th>2</th>\n",
       "      <td>-122.24</td>\n",
       "      <td>37.85</td>\n",
       "      <td>52</td>\n",
       "      <td>1467</td>\n",
       "      <td>190.0</td>\n",
       "      <td>496</td>\n",
       "      <td>177</td>\n",
       "      <td>7.2574</td>\n",
       "      <td>NEAR BAY</td>\n",
       "      <td>352100</td>\n",
       "    </tr>\n",
       "    <tr>\n",
       "      <th>3</th>\n",
       "      <td>-122.25</td>\n",
       "      <td>37.85</td>\n",
       "      <td>52</td>\n",
       "      <td>1274</td>\n",
       "      <td>235.0</td>\n",
       "      <td>558</td>\n",
       "      <td>219</td>\n",
       "      <td>5.6431</td>\n",
       "      <td>NEAR BAY</td>\n",
       "      <td>341300</td>\n",
       "    </tr>\n",
       "    <tr>\n",
       "      <th>4</th>\n",
       "      <td>-122.25</td>\n",
       "      <td>37.85</td>\n",
       "      <td>52</td>\n",
       "      <td>1627</td>\n",
       "      <td>280.0</td>\n",
       "      <td>565</td>\n",
       "      <td>259</td>\n",
       "      <td>3.8462</td>\n",
       "      <td>NEAR BAY</td>\n",
       "      <td>342200</td>\n",
       "    </tr>\n",
       "  </tbody>\n",
       "</table>\n",
       "</div>"
      ],
      "text/plain": [
       "   longitude  latitude  housing_median_age  total_rooms  total_bedrooms  \\\n",
       "0    -122.23     37.88                  41          880           129.0   \n",
       "1    -122.22     37.86                  21         7099          1106.0   \n",
       "2    -122.24     37.85                  52         1467           190.0   \n",
       "3    -122.25     37.85                  52         1274           235.0   \n",
       "4    -122.25     37.85                  52         1627           280.0   \n",
       "\n",
       "   population  households  median_income ocean_proximity  median_house_value  \n",
       "0         322         126         8.3252        NEAR BAY              452600  \n",
       "1        2401        1138         8.3014        NEAR BAY              358500  \n",
       "2         496         177         7.2574        NEAR BAY              352100  \n",
       "3         558         219         5.6431        NEAR BAY              341300  \n",
       "4         565         259         3.8462        NEAR BAY              342200  "
      ]
     },
     "execution_count": 208,
     "metadata": {},
     "output_type": "execute_result"
    }
   ],
   "source": [
    "ca.head()"
   ]
  },
  {
   "cell_type": "code",
   "execution_count": 209,
   "id": "ad3a62a1-f283-4311-b312-0ab0ca96233f",
   "metadata": {},
   "outputs": [
    {
     "data": {
      "text/plain": [
       "<bound method DataFrame.info of        longitude  latitude  housing_median_age  total_rooms  total_bedrooms  \\\n",
       "0        -122.23     37.88                  41          880           129.0   \n",
       "1        -122.22     37.86                  21         7099          1106.0   \n",
       "2        -122.24     37.85                  52         1467           190.0   \n",
       "3        -122.25     37.85                  52         1274           235.0   \n",
       "4        -122.25     37.85                  52         1627           280.0   \n",
       "...          ...       ...                 ...          ...             ...   \n",
       "20635    -121.09     39.48                  25         1665           374.0   \n",
       "20636    -121.21     39.49                  18          697           150.0   \n",
       "20637    -121.22     39.43                  17         2254           485.0   \n",
       "20638    -121.32     39.43                  18         1860           409.0   \n",
       "20639    -121.24     39.37                  16         2785           616.0   \n",
       "\n",
       "       population  households  median_income ocean_proximity  \\\n",
       "0             322         126         8.3252        NEAR BAY   \n",
       "1            2401        1138         8.3014        NEAR BAY   \n",
       "2             496         177         7.2574        NEAR BAY   \n",
       "3             558         219         5.6431        NEAR BAY   \n",
       "4             565         259         3.8462        NEAR BAY   \n",
       "...           ...         ...            ...             ...   \n",
       "20635         845         330         1.5603          INLAND   \n",
       "20636         356         114         2.5568          INLAND   \n",
       "20637        1007         433         1.7000          INLAND   \n",
       "20638         741         349         1.8672          INLAND   \n",
       "20639        1387         530         2.3886          INLAND   \n",
       "\n",
       "       median_house_value  \n",
       "0                  452600  \n",
       "1                  358500  \n",
       "2                  352100  \n",
       "3                  341300  \n",
       "4                  342200  \n",
       "...                   ...  \n",
       "20635               78100  \n",
       "20636               77100  \n",
       "20637               92300  \n",
       "20638               84700  \n",
       "20639               89400  \n",
       "\n",
       "[20640 rows x 10 columns]>"
      ]
     },
     "execution_count": 209,
     "metadata": {},
     "output_type": "execute_result"
    }
   ],
   "source": [
    "ca.info"
   ]
  },
  {
   "cell_type": "code",
   "execution_count": 210,
   "id": "aaa84c0f-ddb4-4957-b668-40c3062d1d88",
   "metadata": {},
   "outputs": [
    {
     "data": {
      "text/plain": [
       "(20640, 10)"
      ]
     },
     "execution_count": 210,
     "metadata": {},
     "output_type": "execute_result"
    }
   ],
   "source": [
    "ca.shape"
   ]
  },
  {
   "cell_type": "code",
   "execution_count": 211,
   "id": "6f23461a-690e-4605-9f07-81220e0a92b4",
   "metadata": {},
   "outputs": [
    {
     "data": {
      "text/plain": [
       "longitude               0\n",
       "latitude                0\n",
       "housing_median_age      0\n",
       "total_rooms             0\n",
       "total_bedrooms        207\n",
       "population              0\n",
       "households              0\n",
       "median_income           0\n",
       "ocean_proximity         0\n",
       "median_house_value      0\n",
       "dtype: int64"
      ]
     },
     "execution_count": 211,
     "metadata": {},
     "output_type": "execute_result"
    }
   ],
   "source": [
    "ca.isnull().sum()"
   ]
  },
  {
   "cell_type": "code",
   "execution_count": 212,
   "id": "b1a39588-a0b8-4ece-8fc8-5554e7b5cf59",
   "metadata": {},
   "outputs": [
    {
     "data": {
      "text/html": [
       "<div>\n",
       "<style scoped>\n",
       "    .dataframe tbody tr th:only-of-type {\n",
       "        vertical-align: middle;\n",
       "    }\n",
       "\n",
       "    .dataframe tbody tr th {\n",
       "        vertical-align: top;\n",
       "    }\n",
       "\n",
       "    .dataframe thead th {\n",
       "        text-align: right;\n",
       "    }\n",
       "</style>\n",
       "<table border=\"1\" class=\"dataframe\">\n",
       "  <thead>\n",
       "    <tr style=\"text-align: right;\">\n",
       "      <th></th>\n",
       "      <th>longitude</th>\n",
       "      <th>latitude</th>\n",
       "      <th>housing_median_age</th>\n",
       "      <th>total_rooms</th>\n",
       "      <th>total_bedrooms</th>\n",
       "      <th>population</th>\n",
       "      <th>households</th>\n",
       "      <th>median_income</th>\n",
       "      <th>ocean_proximity</th>\n",
       "      <th>median_house_value</th>\n",
       "    </tr>\n",
       "  </thead>\n",
       "  <tbody>\n",
       "    <tr>\n",
       "      <th>count</th>\n",
       "      <td>20640.000000</td>\n",
       "      <td>20640.000000</td>\n",
       "      <td>20640.000000</td>\n",
       "      <td>20640.000000</td>\n",
       "      <td>20433.000000</td>\n",
       "      <td>20640.000000</td>\n",
       "      <td>20640.000000</td>\n",
       "      <td>20640.000000</td>\n",
       "      <td>20640</td>\n",
       "      <td>20640.000000</td>\n",
       "    </tr>\n",
       "    <tr>\n",
       "      <th>unique</th>\n",
       "      <td>NaN</td>\n",
       "      <td>NaN</td>\n",
       "      <td>NaN</td>\n",
       "      <td>NaN</td>\n",
       "      <td>NaN</td>\n",
       "      <td>NaN</td>\n",
       "      <td>NaN</td>\n",
       "      <td>NaN</td>\n",
       "      <td>5</td>\n",
       "      <td>NaN</td>\n",
       "    </tr>\n",
       "    <tr>\n",
       "      <th>top</th>\n",
       "      <td>NaN</td>\n",
       "      <td>NaN</td>\n",
       "      <td>NaN</td>\n",
       "      <td>NaN</td>\n",
       "      <td>NaN</td>\n",
       "      <td>NaN</td>\n",
       "      <td>NaN</td>\n",
       "      <td>NaN</td>\n",
       "      <td>&lt;1H OCEAN</td>\n",
       "      <td>NaN</td>\n",
       "    </tr>\n",
       "    <tr>\n",
       "      <th>freq</th>\n",
       "      <td>NaN</td>\n",
       "      <td>NaN</td>\n",
       "      <td>NaN</td>\n",
       "      <td>NaN</td>\n",
       "      <td>NaN</td>\n",
       "      <td>NaN</td>\n",
       "      <td>NaN</td>\n",
       "      <td>NaN</td>\n",
       "      <td>9136</td>\n",
       "      <td>NaN</td>\n",
       "    </tr>\n",
       "    <tr>\n",
       "      <th>mean</th>\n",
       "      <td>-119.569704</td>\n",
       "      <td>35.631861</td>\n",
       "      <td>28.639486</td>\n",
       "      <td>2635.763081</td>\n",
       "      <td>537.870553</td>\n",
       "      <td>1425.476744</td>\n",
       "      <td>499.539680</td>\n",
       "      <td>3.870671</td>\n",
       "      <td>NaN</td>\n",
       "      <td>206855.816909</td>\n",
       "    </tr>\n",
       "    <tr>\n",
       "      <th>std</th>\n",
       "      <td>2.003532</td>\n",
       "      <td>2.135952</td>\n",
       "      <td>12.585558</td>\n",
       "      <td>2181.615252</td>\n",
       "      <td>421.385070</td>\n",
       "      <td>1132.462122</td>\n",
       "      <td>382.329753</td>\n",
       "      <td>1.899822</td>\n",
       "      <td>NaN</td>\n",
       "      <td>115395.615874</td>\n",
       "    </tr>\n",
       "    <tr>\n",
       "      <th>min</th>\n",
       "      <td>-124.350000</td>\n",
       "      <td>32.540000</td>\n",
       "      <td>1.000000</td>\n",
       "      <td>2.000000</td>\n",
       "      <td>1.000000</td>\n",
       "      <td>3.000000</td>\n",
       "      <td>1.000000</td>\n",
       "      <td>0.499900</td>\n",
       "      <td>NaN</td>\n",
       "      <td>14999.000000</td>\n",
       "    </tr>\n",
       "    <tr>\n",
       "      <th>25%</th>\n",
       "      <td>-121.800000</td>\n",
       "      <td>33.930000</td>\n",
       "      <td>18.000000</td>\n",
       "      <td>1447.750000</td>\n",
       "      <td>296.000000</td>\n",
       "      <td>787.000000</td>\n",
       "      <td>280.000000</td>\n",
       "      <td>2.563400</td>\n",
       "      <td>NaN</td>\n",
       "      <td>119600.000000</td>\n",
       "    </tr>\n",
       "    <tr>\n",
       "      <th>50%</th>\n",
       "      <td>-118.490000</td>\n",
       "      <td>34.260000</td>\n",
       "      <td>29.000000</td>\n",
       "      <td>2127.000000</td>\n",
       "      <td>435.000000</td>\n",
       "      <td>1166.000000</td>\n",
       "      <td>409.000000</td>\n",
       "      <td>3.534800</td>\n",
       "      <td>NaN</td>\n",
       "      <td>179700.000000</td>\n",
       "    </tr>\n",
       "    <tr>\n",
       "      <th>75%</th>\n",
       "      <td>-118.010000</td>\n",
       "      <td>37.710000</td>\n",
       "      <td>37.000000</td>\n",
       "      <td>3148.000000</td>\n",
       "      <td>647.000000</td>\n",
       "      <td>1725.000000</td>\n",
       "      <td>605.000000</td>\n",
       "      <td>4.743250</td>\n",
       "      <td>NaN</td>\n",
       "      <td>264725.000000</td>\n",
       "    </tr>\n",
       "    <tr>\n",
       "      <th>max</th>\n",
       "      <td>-114.310000</td>\n",
       "      <td>41.950000</td>\n",
       "      <td>52.000000</td>\n",
       "      <td>39320.000000</td>\n",
       "      <td>6445.000000</td>\n",
       "      <td>35682.000000</td>\n",
       "      <td>6082.000000</td>\n",
       "      <td>15.000100</td>\n",
       "      <td>NaN</td>\n",
       "      <td>500001.000000</td>\n",
       "    </tr>\n",
       "  </tbody>\n",
       "</table>\n",
       "</div>"
      ],
      "text/plain": [
       "           longitude      latitude  housing_median_age   total_rooms  \\\n",
       "count   20640.000000  20640.000000        20640.000000  20640.000000   \n",
       "unique           NaN           NaN                 NaN           NaN   \n",
       "top              NaN           NaN                 NaN           NaN   \n",
       "freq             NaN           NaN                 NaN           NaN   \n",
       "mean     -119.569704     35.631861           28.639486   2635.763081   \n",
       "std         2.003532      2.135952           12.585558   2181.615252   \n",
       "min      -124.350000     32.540000            1.000000      2.000000   \n",
       "25%      -121.800000     33.930000           18.000000   1447.750000   \n",
       "50%      -118.490000     34.260000           29.000000   2127.000000   \n",
       "75%      -118.010000     37.710000           37.000000   3148.000000   \n",
       "max      -114.310000     41.950000           52.000000  39320.000000   \n",
       "\n",
       "        total_bedrooms    population    households  median_income  \\\n",
       "count     20433.000000  20640.000000  20640.000000   20640.000000   \n",
       "unique             NaN           NaN           NaN            NaN   \n",
       "top                NaN           NaN           NaN            NaN   \n",
       "freq               NaN           NaN           NaN            NaN   \n",
       "mean        537.870553   1425.476744    499.539680       3.870671   \n",
       "std         421.385070   1132.462122    382.329753       1.899822   \n",
       "min           1.000000      3.000000      1.000000       0.499900   \n",
       "25%         296.000000    787.000000    280.000000       2.563400   \n",
       "50%         435.000000   1166.000000    409.000000       3.534800   \n",
       "75%         647.000000   1725.000000    605.000000       4.743250   \n",
       "max        6445.000000  35682.000000   6082.000000      15.000100   \n",
       "\n",
       "       ocean_proximity  median_house_value  \n",
       "count            20640        20640.000000  \n",
       "unique               5                 NaN  \n",
       "top          <1H OCEAN                 NaN  \n",
       "freq              9136                 NaN  \n",
       "mean               NaN       206855.816909  \n",
       "std                NaN       115395.615874  \n",
       "min                NaN        14999.000000  \n",
       "25%                NaN       119600.000000  \n",
       "50%                NaN       179700.000000  \n",
       "75%                NaN       264725.000000  \n",
       "max                NaN       500001.000000  "
      ]
     },
     "execution_count": 212,
     "metadata": {},
     "output_type": "execute_result"
    }
   ],
   "source": [
    "ca.describe(include='all')"
   ]
  },
  {
   "cell_type": "code",
   "execution_count": 213,
   "id": "0cfa4493-7e63-4b3a-9f13-6159e3babf41",
   "metadata": {},
   "outputs": [
    {
     "data": {
      "text/plain": [
       "array([[<AxesSubplot:title={'center':'longitude'}>,\n",
       "        <AxesSubplot:title={'center':'latitude'}>,\n",
       "        <AxesSubplot:title={'center':'housing_median_age'}>],\n",
       "       [<AxesSubplot:title={'center':'total_rooms'}>,\n",
       "        <AxesSubplot:title={'center':'total_bedrooms'}>,\n",
       "        <AxesSubplot:title={'center':'population'}>],\n",
       "       [<AxesSubplot:title={'center':'households'}>,\n",
       "        <AxesSubplot:title={'center':'median_income'}>,\n",
       "        <AxesSubplot:title={'center':'median_house_value'}>]],\n",
       "      dtype=object)"
      ]
     },
     "execution_count": 213,
     "metadata": {},
     "output_type": "execute_result"
    },
    {
     "data": {
      "image/png": "[encoded data removed]",
      "text/plain": [
       "<Figure size 720x720 with 9 Axes>"
      ]
     },
     "metadata": {
      "needs_background": "light"
     },
     "output_type": "display_data"
    }
   ],
   "source": [
    "ca.hist(bins=50, figsize=(10, 10))"
   ]
  },
  {
   "cell_type": "code",
   "execution_count": 214,
   "id": "8d7b444b-0554-4a0b-acac-775d0bd1fbdd",
   "metadata": {},
   "outputs": [],
   "source": [
    "# substitite the missing values by the mean\n",
    "# if(condition, TRUE, FALSE)\n",
    "# np.where(condition, value if true, value if false)\n",
    "\n",
    "# ca['total_bedrooms'].fillna(ca['total_bedrooms'].mean(),inplace=True)"
   ]
  },
  {
   "cell_type": "code",
   "execution_count": null,
   "id": "049786a4-c5e2-40dc-bfa8-f69394cf850f",
   "metadata": {},
   "outputs": [],
   "source": []
  },
  {
   "cell_type": "code",
   "execution_count": 215,
   "id": "0a6d8098-cd9a-4d91-8444-76d61f979f0a",
   "metadata": {},
   "outputs": [],
   "source": [
    "# another way is using impute\n",
    "# inpute the missing values\n",
    "\n",
    "from sklearn.impute import SimpleImputer"
   ]
  },
  {
   "cell_type": "code",
   "execution_count": 216,
   "id": "91358335-c58b-416b-b2a5-dfc120d54bd7",
   "metadata": {},
   "outputs": [],
   "source": [
    "#strategy='mean/median/fill'\n",
    "\n",
    "imp=SimpleImputer(missing_values=np.nan,strategy='mean')"
   ]
  },
  {
   "cell_type": "code",
   "execution_count": 217,
   "id": "408e2d6d-81eb-44e0-9f4d-6d3685bbf6b8",
   "metadata": {},
   "outputs": [],
   "source": [
    "# fit_transform on the imp\n",
    "\n",
    "ca['total_bedrooms']=imp.fit_transform(ca[['total_bedrooms']])"
   ]
  },
  {
   "cell_type": "code",
   "execution_count": 218,
   "id": "d53e1d27-651d-46b2-8104-7d84cbbc782e",
   "metadata": {},
   "outputs": [
    {
     "data": {
      "text/plain": [
       "longitude             0\n",
       "latitude              0\n",
       "housing_median_age    0\n",
       "total_rooms           0\n",
       "total_bedrooms        0\n",
       "population            0\n",
       "households            0\n",
       "median_income         0\n",
       "ocean_proximity       0\n",
       "median_house_value    0\n",
       "dtype: int64"
      ]
     },
     "execution_count": 218,
     "metadata": {},
     "output_type": "execute_result"
    }
   ],
   "source": [
    "\n",
    "ca.isnull().sum()"
   ]
  },
  {
   "cell_type": "code",
   "execution_count": 219,
   "id": "f32153dd-7450-4a4b-a938-8fe490424f5d",
   "metadata": {},
   "outputs": [
    {
     "data": {
      "text/plain": [
       "<1H OCEAN     9136\n",
       "INLAND        6551\n",
       "NEAR OCEAN    2658\n",
       "NEAR BAY      2290\n",
       "ISLAND           5\n",
       "Name: ocean_proximity, dtype: int64"
      ]
     },
     "execution_count": 219,
     "metadata": {},
     "output_type": "execute_result"
    }
   ],
   "source": [
    "ca['ocean_proximity'].value_counts()"
   ]
  },
  {
   "cell_type": "code",
   "execution_count": 220,
   "id": "10b6f59a-f75e-4a31-a201-e34fd8ea42b1",
   "metadata": {},
   "outputs": [],
   "source": [
    "# substitute the iland - near bay"
   ]
  },
  {
   "cell_type": "code",
   "execution_count": 221,
   "id": "4549e90d-f75c-42f6-baed-11d8f7752810",
   "metadata": {},
   "outputs": [],
   "source": [
    "ca['ocean_proximity']=np.where(ca['ocean_proximity']=='ISLAND', 'NEAR BAY',ca['ocean_proximity'])"
   ]
  },
  {
   "cell_type": "code",
   "execution_count": 222,
   "id": "bf141034-5844-4cf9-9c56-b57a77af6d6b",
   "metadata": {},
   "outputs": [
    {
     "data": {
      "text/plain": [
       "<1H OCEAN     9136\n",
       "INLAND        6551\n",
       "NEAR OCEAN    2658\n",
       "NEAR BAY      2295\n",
       "Name: ocean_proximity, dtype: int64"
      ]
     },
     "execution_count": 222,
     "metadata": {},
     "output_type": "execute_result"
    }
   ],
   "source": [
    "ca['ocean_proximity'].value_counts()"
   ]
  },
  {
   "cell_type": "code",
   "execution_count": 223,
   "id": "7d2e01fd-d0a5-4e6b-bb3c-6d99e2d988bd",
   "metadata": {},
   "outputs": [],
   "source": [
    "# categorical values into dummy var\n",
    "# drop first removes first so that is implied\n",
    "\n",
    "\n",
    "dum=pd.get_dummies(ca['ocean_proximity'])"
   ]
  },
  {
   "cell_type": "code",
   "execution_count": 224,
   "id": "558c7f28-acc5-4a82-8868-0ec03cf4fb8e",
   "metadata": {},
   "outputs": [
    {
     "data": {
      "text/html": [
       "<div>\n",
       "<style scoped>\n",
       "    .dataframe tbody tr th:only-of-type {\n",
       "        vertical-align: middle;\n",
       "    }\n",
       "\n",
       "    .dataframe tbody tr th {\n",
       "        vertical-align: top;\n",
       "    }\n",
       "\n",
       "    .dataframe thead th {\n",
       "        text-align: right;\n",
       "    }\n",
       "</style>\n",
       "<table border=\"1\" class=\"dataframe\">\n",
       "  <thead>\n",
       "    <tr style=\"text-align: right;\">\n",
       "      <th></th>\n",
       "      <th>&lt;1H OCEAN</th>\n",
       "      <th>INLAND</th>\n",
       "      <th>NEAR BAY</th>\n",
       "      <th>NEAR OCEAN</th>\n",
       "    </tr>\n",
       "  </thead>\n",
       "  <tbody>\n",
       "    <tr>\n",
       "      <th>0</th>\n",
       "      <td>0</td>\n",
       "      <td>0</td>\n",
       "      <td>1</td>\n",
       "      <td>0</td>\n",
       "    </tr>\n",
       "    <tr>\n",
       "      <th>1</th>\n",
       "      <td>0</td>\n",
       "      <td>0</td>\n",
       "      <td>1</td>\n",
       "      <td>0</td>\n",
       "    </tr>\n",
       "    <tr>\n",
       "      <th>2</th>\n",
       "      <td>0</td>\n",
       "      <td>0</td>\n",
       "      <td>1</td>\n",
       "      <td>0</td>\n",
       "    </tr>\n",
       "    <tr>\n",
       "      <th>3</th>\n",
       "      <td>0</td>\n",
       "      <td>0</td>\n",
       "      <td>1</td>\n",
       "      <td>0</td>\n",
       "    </tr>\n",
       "    <tr>\n",
       "      <th>4</th>\n",
       "      <td>0</td>\n",
       "      <td>0</td>\n",
       "      <td>1</td>\n",
       "      <td>0</td>\n",
       "    </tr>\n",
       "    <tr>\n",
       "      <th>...</th>\n",
       "      <td>...</td>\n",
       "      <td>...</td>\n",
       "      <td>...</td>\n",
       "      <td>...</td>\n",
       "    </tr>\n",
       "    <tr>\n",
       "      <th>20635</th>\n",
       "      <td>0</td>\n",
       "      <td>1</td>\n",
       "      <td>0</td>\n",
       "      <td>0</td>\n",
       "    </tr>\n",
       "    <tr>\n",
       "      <th>20636</th>\n",
       "      <td>0</td>\n",
       "      <td>1</td>\n",
       "      <td>0</td>\n",
       "      <td>0</td>\n",
       "    </tr>\n",
       "    <tr>\n",
       "      <th>20637</th>\n",
       "      <td>0</td>\n",
       "      <td>1</td>\n",
       "      <td>0</td>\n",
       "      <td>0</td>\n",
       "    </tr>\n",
       "    <tr>\n",
       "      <th>20638</th>\n",
       "      <td>0</td>\n",
       "      <td>1</td>\n",
       "      <td>0</td>\n",
       "      <td>0</td>\n",
       "    </tr>\n",
       "    <tr>\n",
       "      <th>20639</th>\n",
       "      <td>0</td>\n",
       "      <td>1</td>\n",
       "      <td>0</td>\n",
       "      <td>0</td>\n",
       "    </tr>\n",
       "  </tbody>\n",
       "</table>\n",
       "<p>20640 rows × 4 columns</p>\n",
       "</div>"
      ],
      "text/plain": [
       "       <1H OCEAN  INLAND  NEAR BAY  NEAR OCEAN\n",
       "0              0       0         1           0\n",
       "1              0       0         1           0\n",
       "2              0       0         1           0\n",
       "3              0       0         1           0\n",
       "4              0       0         1           0\n",
       "...          ...     ...       ...         ...\n",
       "20635          0       1         0           0\n",
       "20636          0       1         0           0\n",
       "20637          0       1         0           0\n",
       "20638          0       1         0           0\n",
       "20639          0       1         0           0\n",
       "\n",
       "[20640 rows x 4 columns]"
      ]
     },
     "execution_count": 224,
     "metadata": {},
     "output_type": "execute_result"
    }
   ],
   "source": [
    "dum"
   ]
  },
  {
   "cell_type": "code",
   "execution_count": 225,
   "id": "f75dcfbe-29fb-4ffa-84bb-64d898aedf05",
   "metadata": {},
   "outputs": [],
   "source": [
    "ca.drop('ocean_proximity',axis=1,inplace=True)"
   ]
  },
  {
   "cell_type": "code",
   "execution_count": 226,
   "id": "f2cbb405-d37c-4147-9b6f-47be3347a386",
   "metadata": {},
   "outputs": [
    {
     "data": {
      "text/html": [
       "<div>\n",
       "<style scoped>\n",
       "    .dataframe tbody tr th:only-of-type {\n",
       "        vertical-align: middle;\n",
       "    }\n",
       "\n",
       "    .dataframe tbody tr th {\n",
       "        vertical-align: top;\n",
       "    }\n",
       "\n",
       "    .dataframe thead th {\n",
       "        text-align: right;\n",
       "    }\n",
       "</style>\n",
       "<table border=\"1\" class=\"dataframe\">\n",
       "  <thead>\n",
       "    <tr style=\"text-align: right;\">\n",
       "      <th></th>\n",
       "      <th>longitude</th>\n",
       "      <th>latitude</th>\n",
       "      <th>housing_median_age</th>\n",
       "      <th>total_rooms</th>\n",
       "      <th>total_bedrooms</th>\n",
       "      <th>population</th>\n",
       "      <th>households</th>\n",
       "      <th>median_income</th>\n",
       "      <th>median_house_value</th>\n",
       "    </tr>\n",
       "  </thead>\n",
       "  <tbody>\n",
       "    <tr>\n",
       "      <th>0</th>\n",
       "      <td>-122.23</td>\n",
       "      <td>37.88</td>\n",
       "      <td>41</td>\n",
       "      <td>880</td>\n",
       "      <td>129.0</td>\n",
       "      <td>322</td>\n",
       "      <td>126</td>\n",
       "      <td>8.3252</td>\n",
       "      <td>452600</td>\n",
       "    </tr>\n",
       "    <tr>\n",
       "      <th>1</th>\n",
       "      <td>-122.22</td>\n",
       "      <td>37.86</td>\n",
       "      <td>21</td>\n",
       "      <td>7099</td>\n",
       "      <td>1106.0</td>\n",
       "      <td>2401</td>\n",
       "      <td>1138</td>\n",
       "      <td>8.3014</td>\n",
       "      <td>358500</td>\n",
       "    </tr>\n",
       "    <tr>\n",
       "      <th>2</th>\n",
       "      <td>-122.24</td>\n",
       "      <td>37.85</td>\n",
       "      <td>52</td>\n",
       "      <td>1467</td>\n",
       "      <td>190.0</td>\n",
       "      <td>496</td>\n",
       "      <td>177</td>\n",
       "      <td>7.2574</td>\n",
       "      <td>352100</td>\n",
       "    </tr>\n",
       "    <tr>\n",
       "      <th>3</th>\n",
       "      <td>-122.25</td>\n",
       "      <td>37.85</td>\n",
       "      <td>52</td>\n",
       "      <td>1274</td>\n",
       "      <td>235.0</td>\n",
       "      <td>558</td>\n",
       "      <td>219</td>\n",
       "      <td>5.6431</td>\n",
       "      <td>341300</td>\n",
       "    </tr>\n",
       "    <tr>\n",
       "      <th>4</th>\n",
       "      <td>-122.25</td>\n",
       "      <td>37.85</td>\n",
       "      <td>52</td>\n",
       "      <td>1627</td>\n",
       "      <td>280.0</td>\n",
       "      <td>565</td>\n",
       "      <td>259</td>\n",
       "      <td>3.8462</td>\n",
       "      <td>342200</td>\n",
       "    </tr>\n",
       "    <tr>\n",
       "      <th>...</th>\n",
       "      <td>...</td>\n",
       "      <td>...</td>\n",
       "      <td>...</td>\n",
       "      <td>...</td>\n",
       "      <td>...</td>\n",
       "      <td>...</td>\n",
       "      <td>...</td>\n",
       "      <td>...</td>\n",
       "      <td>...</td>\n",
       "    </tr>\n",
       "    <tr>\n",
       "      <th>20635</th>\n",
       "      <td>-121.09</td>\n",
       "      <td>39.48</td>\n",
       "      <td>25</td>\n",
       "      <td>1665</td>\n",
       "      <td>374.0</td>\n",
       "      <td>845</td>\n",
       "      <td>330</td>\n",
       "      <td>1.5603</td>\n",
       "      <td>78100</td>\n",
       "    </tr>\n",
       "    <tr>\n",
       "      <th>20636</th>\n",
       "      <td>-121.21</td>\n",
       "      <td>39.49</td>\n",
       "      <td>18</td>\n",
       "      <td>697</td>\n",
       "      <td>150.0</td>\n",
       "      <td>356</td>\n",
       "      <td>114</td>\n",
       "      <td>2.5568</td>\n",
       "      <td>77100</td>\n",
       "    </tr>\n",
       "    <tr>\n",
       "      <th>20637</th>\n",
       "      <td>-121.22</td>\n",
       "      <td>39.43</td>\n",
       "      <td>17</td>\n",
       "      <td>2254</td>\n",
       "      <td>485.0</td>\n",
       "      <td>1007</td>\n",
       "      <td>433</td>\n",
       "      <td>1.7000</td>\n",
       "      <td>92300</td>\n",
       "    </tr>\n",
       "    <tr>\n",
       "      <th>20638</th>\n",
       "      <td>-121.32</td>\n",
       "      <td>39.43</td>\n",
       "      <td>18</td>\n",
       "      <td>1860</td>\n",
       "      <td>409.0</td>\n",
       "      <td>741</td>\n",
       "      <td>349</td>\n",
       "      <td>1.8672</td>\n",
       "      <td>84700</td>\n",
       "    </tr>\n",
       "    <tr>\n",
       "      <th>20639</th>\n",
       "      <td>-121.24</td>\n",
       "      <td>39.37</td>\n",
       "      <td>16</td>\n",
       "      <td>2785</td>\n",
       "      <td>616.0</td>\n",
       "      <td>1387</td>\n",
       "      <td>530</td>\n",
       "      <td>2.3886</td>\n",
       "      <td>89400</td>\n",
       "    </tr>\n",
       "  </tbody>\n",
       "</table>\n",
       "<p>20640 rows × 9 columns</p>\n",
       "</div>"
      ],
      "text/plain": [
       "       longitude  latitude  housing_median_age  total_rooms  total_bedrooms  \\\n",
       "0        -122.23     37.88                  41          880           129.0   \n",
       "1        -122.22     37.86                  21         7099          1106.0   \n",
       "2        -122.24     37.85                  52         1467           190.0   \n",
       "3        -122.25     37.85                  52         1274           235.0   \n",
       "4        -122.25     37.85                  52         1627           280.0   \n",
       "...          ...       ...                 ...          ...             ...   \n",
       "20635    -121.09     39.48                  25         1665           374.0   \n",
       "20636    -121.21     39.49                  18          697           150.0   \n",
       "20637    -121.22     39.43                  17         2254           485.0   \n",
       "20638    -121.32     39.43                  18         1860           409.0   \n",
       "20639    -121.24     39.37                  16         2785           616.0   \n",
       "\n",
       "       population  households  median_income  median_house_value  \n",
       "0             322         126         8.3252              452600  \n",
       "1            2401        1138         8.3014              358500  \n",
       "2             496         177         7.2574              352100  \n",
       "3             558         219         5.6431              341300  \n",
       "4             565         259         3.8462              342200  \n",
       "...           ...         ...            ...                 ...  \n",
       "20635         845         330         1.5603               78100  \n",
       "20636         356         114         2.5568               77100  \n",
       "20637        1007         433         1.7000               92300  \n",
       "20638         741         349         1.8672               84700  \n",
       "20639        1387         530         2.3886               89400  \n",
       "\n",
       "[20640 rows x 9 columns]"
      ]
     },
     "execution_count": 226,
     "metadata": {},
     "output_type": "execute_result"
    }
   ],
   "source": [
    "ca"
   ]
  },
  {
   "cell_type": "code",
   "execution_count": 227,
   "id": "123a8bd9-67a2-406c-b5af-c6efaf8f3df9",
   "metadata": {},
   "outputs": [],
   "source": [
    "# merge the dum with the ca dataset\n",
    "\n",
    "df=pd.concat([ca,dum],axis=1)"
   ]
  },
  {
   "cell_type": "code",
   "execution_count": 228,
   "id": "0a8ea55e-4f98-465b-9239-9cda144a6875",
   "metadata": {},
   "outputs": [
    {
     "data": {
      "text/html": [
       "<div>\n",
       "<style scoped>\n",
       "    .dataframe tbody tr th:only-of-type {\n",
       "        vertical-align: middle;\n",
       "    }\n",
       "\n",
       "    .dataframe tbody tr th {\n",
       "        vertical-align: top;\n",
       "    }\n",
       "\n",
       "    .dataframe thead th {\n",
       "        text-align: right;\n",
       "    }\n",
       "</style>\n",
       "<table border=\"1\" class=\"dataframe\">\n",
       "  <thead>\n",
       "    <tr style=\"text-align: right;\">\n",
       "      <th></th>\n",
       "      <th>longitude</th>\n",
       "      <th>latitude</th>\n",
       "      <th>housing_median_age</th>\n",
       "      <th>total_rooms</th>\n",
       "      <th>total_bedrooms</th>\n",
       "      <th>population</th>\n",
       "      <th>households</th>\n",
       "      <th>median_income</th>\n",
       "      <th>median_house_value</th>\n",
       "      <th>&lt;1H OCEAN</th>\n",
       "      <th>INLAND</th>\n",
       "      <th>NEAR BAY</th>\n",
       "      <th>NEAR OCEAN</th>\n",
       "    </tr>\n",
       "  </thead>\n",
       "  <tbody>\n",
       "    <tr>\n",
       "      <th>0</th>\n",
       "      <td>-122.23</td>\n",
       "      <td>37.88</td>\n",
       "      <td>41</td>\n",
       "      <td>880</td>\n",
       "      <td>129.0</td>\n",
       "      <td>322</td>\n",
       "      <td>126</td>\n",
       "      <td>8.3252</td>\n",
       "      <td>452600</td>\n",
       "      <td>0</td>\n",
       "      <td>0</td>\n",
       "      <td>1</td>\n",
       "      <td>0</td>\n",
       "    </tr>\n",
       "    <tr>\n",
       "      <th>1</th>\n",
       "      <td>-122.22</td>\n",
       "      <td>37.86</td>\n",
       "      <td>21</td>\n",
       "      <td>7099</td>\n",
       "      <td>1106.0</td>\n",
       "      <td>2401</td>\n",
       "      <td>1138</td>\n",
       "      <td>8.3014</td>\n",
       "      <td>358500</td>\n",
       "      <td>0</td>\n",
       "      <td>0</td>\n",
       "      <td>1</td>\n",
       "      <td>0</td>\n",
       "    </tr>\n",
       "    <tr>\n",
       "      <th>2</th>\n",
       "      <td>-122.24</td>\n",
       "      <td>37.85</td>\n",
       "      <td>52</td>\n",
       "      <td>1467</td>\n",
       "      <td>190.0</td>\n",
       "      <td>496</td>\n",
       "      <td>177</td>\n",
       "      <td>7.2574</td>\n",
       "      <td>352100</td>\n",
       "      <td>0</td>\n",
       "      <td>0</td>\n",
       "      <td>1</td>\n",
       "      <td>0</td>\n",
       "    </tr>\n",
       "    <tr>\n",
       "      <th>3</th>\n",
       "      <td>-122.25</td>\n",
       "      <td>37.85</td>\n",
       "      <td>52</td>\n",
       "      <td>1274</td>\n",
       "      <td>235.0</td>\n",
       "      <td>558</td>\n",
       "      <td>219</td>\n",
       "      <td>5.6431</td>\n",
       "      <td>341300</td>\n",
       "      <td>0</td>\n",
       "      <td>0</td>\n",
       "      <td>1</td>\n",
       "      <td>0</td>\n",
       "    </tr>\n",
       "    <tr>\n",
       "      <th>4</th>\n",
       "      <td>-122.25</td>\n",
       "      <td>37.85</td>\n",
       "      <td>52</td>\n",
       "      <td>1627</td>\n",
       "      <td>280.0</td>\n",
       "      <td>565</td>\n",
       "      <td>259</td>\n",
       "      <td>3.8462</td>\n",
       "      <td>342200</td>\n",
       "      <td>0</td>\n",
       "      <td>0</td>\n",
       "      <td>1</td>\n",
       "      <td>0</td>\n",
       "    </tr>\n",
       "  </tbody>\n",
       "</table>\n",
       "</div>"
      ],
      "text/plain": [
       "   longitude  latitude  housing_median_age  total_rooms  total_bedrooms  \\\n",
       "0    -122.23     37.88                  41          880           129.0   \n",
       "1    -122.22     37.86                  21         7099          1106.0   \n",
       "2    -122.24     37.85                  52         1467           190.0   \n",
       "3    -122.25     37.85                  52         1274           235.0   \n",
       "4    -122.25     37.85                  52         1627           280.0   \n",
       "\n",
       "   population  households  median_income  median_house_value  <1H OCEAN  \\\n",
       "0         322         126         8.3252              452600          0   \n",
       "1        2401        1138         8.3014              358500          0   \n",
       "2         496         177         7.2574              352100          0   \n",
       "3         558         219         5.6431              341300          0   \n",
       "4         565         259         3.8462              342200          0   \n",
       "\n",
       "   INLAND  NEAR BAY  NEAR OCEAN  \n",
       "0       0         1           0  \n",
       "1       0         1           0  \n",
       "2       0         1           0  \n",
       "3       0         1           0  \n",
       "4       0         1           0  "
      ]
     },
     "execution_count": 228,
     "metadata": {},
     "output_type": "execute_result"
    }
   ],
   "source": [
    "df.head()"
   ]
  },
  {
   "cell_type": "code",
   "execution_count": 229,
   "id": "a5119faf-d315-4358-9431-a91864923f95",
   "metadata": {},
   "outputs": [],
   "source": [
    "# dependent variable\n",
    "y=df['median_house_value']"
   ]
  },
  {
   "cell_type": "code",
   "execution_count": 230,
   "id": "9455baba-2da0-455c-82d7-77472a1ae4a0",
   "metadata": {},
   "outputs": [],
   "source": [
    "# independent variables\n",
    "X=df.drop('median_house_value',axis=1)"
   ]
  },
  {
   "cell_type": "code",
   "execution_count": 231,
   "id": "4fd955ca-a934-4ada-8354-4e419439a660",
   "metadata": {},
   "outputs": [
    {
     "data": {
      "text/html": [
       "<div>\n",
       "<style scoped>\n",
       "    .dataframe tbody tr th:only-of-type {\n",
       "        vertical-align: middle;\n",
       "    }\n",
       "\n",
       "    .dataframe tbody tr th {\n",
       "        vertical-align: top;\n",
       "    }\n",
       "\n",
       "    .dataframe thead th {\n",
       "        text-align: right;\n",
       "    }\n",
       "</style>\n",
       "<table border=\"1\" class=\"dataframe\">\n",
       "  <thead>\n",
       "    <tr style=\"text-align: right;\">\n",
       "      <th></th>\n",
       "      <th>longitude</th>\n",
       "      <th>latitude</th>\n",
       "      <th>housing_median_age</th>\n",
       "      <th>total_rooms</th>\n",
       "      <th>total_bedrooms</th>\n",
       "      <th>population</th>\n",
       "      <th>households</th>\n",
       "      <th>median_income</th>\n",
       "      <th>&lt;1H OCEAN</th>\n",
       "      <th>INLAND</th>\n",
       "      <th>NEAR BAY</th>\n",
       "      <th>NEAR OCEAN</th>\n",
       "    </tr>\n",
       "  </thead>\n",
       "  <tbody>\n",
       "    <tr>\n",
       "      <th>0</th>\n",
       "      <td>-122.23</td>\n",
       "      <td>37.88</td>\n",
       "      <td>41</td>\n",
       "      <td>880</td>\n",
       "      <td>129.0</td>\n",
       "      <td>322</td>\n",
       "      <td>126</td>\n",
       "      <td>8.3252</td>\n",
       "      <td>0</td>\n",
       "      <td>0</td>\n",
       "      <td>1</td>\n",
       "      <td>0</td>\n",
       "    </tr>\n",
       "    <tr>\n",
       "      <th>1</th>\n",
       "      <td>-122.22</td>\n",
       "      <td>37.86</td>\n",
       "      <td>21</td>\n",
       "      <td>7099</td>\n",
       "      <td>1106.0</td>\n",
       "      <td>2401</td>\n",
       "      <td>1138</td>\n",
       "      <td>8.3014</td>\n",
       "      <td>0</td>\n",
       "      <td>0</td>\n",
       "      <td>1</td>\n",
       "      <td>0</td>\n",
       "    </tr>\n",
       "    <tr>\n",
       "      <th>2</th>\n",
       "      <td>-122.24</td>\n",
       "      <td>37.85</td>\n",
       "      <td>52</td>\n",
       "      <td>1467</td>\n",
       "      <td>190.0</td>\n",
       "      <td>496</td>\n",
       "      <td>177</td>\n",
       "      <td>7.2574</td>\n",
       "      <td>0</td>\n",
       "      <td>0</td>\n",
       "      <td>1</td>\n",
       "      <td>0</td>\n",
       "    </tr>\n",
       "    <tr>\n",
       "      <th>3</th>\n",
       "      <td>-122.25</td>\n",
       "      <td>37.85</td>\n",
       "      <td>52</td>\n",
       "      <td>1274</td>\n",
       "      <td>235.0</td>\n",
       "      <td>558</td>\n",
       "      <td>219</td>\n",
       "      <td>5.6431</td>\n",
       "      <td>0</td>\n",
       "      <td>0</td>\n",
       "      <td>1</td>\n",
       "      <td>0</td>\n",
       "    </tr>\n",
       "    <tr>\n",
       "      <th>4</th>\n",
       "      <td>-122.25</td>\n",
       "      <td>37.85</td>\n",
       "      <td>52</td>\n",
       "      <td>1627</td>\n",
       "      <td>280.0</td>\n",
       "      <td>565</td>\n",
       "      <td>259</td>\n",
       "      <td>3.8462</td>\n",
       "      <td>0</td>\n",
       "      <td>0</td>\n",
       "      <td>1</td>\n",
       "      <td>0</td>\n",
       "    </tr>\n",
       "  </tbody>\n",
       "</table>\n",
       "</div>"
      ],
      "text/plain": [
       "   longitude  latitude  housing_median_age  total_rooms  total_bedrooms  \\\n",
       "0    -122.23     37.88                  41          880           129.0   \n",
       "1    -122.22     37.86                  21         7099          1106.0   \n",
       "2    -122.24     37.85                  52         1467           190.0   \n",
       "3    -122.25     37.85                  52         1274           235.0   \n",
       "4    -122.25     37.85                  52         1627           280.0   \n",
       "\n",
       "   population  households  median_income  <1H OCEAN  INLAND  NEAR BAY  \\\n",
       "0         322         126         8.3252          0       0         1   \n",
       "1        2401        1138         8.3014          0       0         1   \n",
       "2         496         177         7.2574          0       0         1   \n",
       "3         558         219         5.6431          0       0         1   \n",
       "4         565         259         3.8462          0       0         1   \n",
       "\n",
       "   NEAR OCEAN  \n",
       "0           0  \n",
       "1           0  \n",
       "2           0  \n",
       "3           0  \n",
       "4           0  "
      ]
     },
     "execution_count": 231,
     "metadata": {},
     "output_type": "execute_result"
    }
   ],
   "source": [
    "X.head()"
   ]
  },
  {
   "cell_type": "code",
   "execution_count": 232,
   "id": "dec9b988-70d8-40fc-aac1-2fa3d42f3fd5",
   "metadata": {},
   "outputs": [],
   "source": [
    "from sklearn.model_selection import train_test_split"
   ]
  },
  {
   "cell_type": "code",
   "execution_count": 233,
   "id": "47874aa9-d15a-4a36-ae90-9a873ee8be68",
   "metadata": {},
   "outputs": [],
   "source": [
    "x_train,x_test,y_train,y_test=train_test_split(X,y,test_size=.2,random_state=1)"
   ]
  },
  {
   "cell_type": "code",
   "execution_count": 234,
   "id": "df6af594-2e83-46bf-999b-7628107ece14",
   "metadata": {},
   "outputs": [
    {
     "data": {
      "text/plain": [
       "(16512, 12)"
      ]
     },
     "execution_count": 234,
     "metadata": {},
     "output_type": "execute_result"
    }
   ],
   "source": [
    "x_train.shape"
   ]
  },
  {
   "cell_type": "code",
   "execution_count": 235,
   "id": "3d9f0941-6ccb-4b4a-a886-e2ce19547d0e",
   "metadata": {},
   "outputs": [
    {
     "data": {
      "text/plain": [
       "(4128, 12)"
      ]
     },
     "execution_count": 235,
     "metadata": {},
     "output_type": "execute_result"
    }
   ],
   "source": [
    "x_test.shape"
   ]
  },
  {
   "cell_type": "code",
   "execution_count": 236,
   "id": "39b43373-6b37-46e9-802b-55fbad676281",
   "metadata": {},
   "outputs": [],
   "source": [
    "from sklearn.preprocessing import StandardScaler"
   ]
  },
  {
   "cell_type": "code",
   "execution_count": 237,
   "id": "02f0bb09-5c9b-4702-9cac-9bc2bef33782",
   "metadata": {},
   "outputs": [],
   "source": [
    "scaler=StandardScaler()"
   ]
  },
  {
   "cell_type": "code",
   "execution_count": 238,
   "id": "855e5f59-d614-49cb-ba82-c655a1c5cf88",
   "metadata": {},
   "outputs": [],
   "source": [
    "x_train=scaler.fit_transform(x_train)"
   ]
  },
  {
   "cell_type": "markdown",
   "id": "6ff9ea2c-3833-4b64-b0ac-e8e34ce82071",
   "metadata": {},
   "source": [
    "We will use the fit_transform on training dataset and then calculate the mean and std on the traing dataset, using the mean and sd of the training dataset... we will transform the test dataset, (becuase StandardScaller is an instance of a class)"
   ]
  },
  {
   "cell_type": "code",
   "execution_count": 239,
   "id": "f36ff86d-a9a0-49e6-8bea-89a353366307",
   "metadata": {},
   "outputs": [],
   "source": [
    "x_test=scaler.transform(x_test)"
   ]
  },
  {
   "cell_type": "code",
   "execution_count": 240,
   "id": "0cd7e5ea-f0a3-4cce-996a-f09c54bc43a9",
   "metadata": {},
   "outputs": [],
   "source": [
    "from sklearn.linear_model import LinearRegression"
   ]
  },
  {
   "cell_type": "code",
   "execution_count": 241,
   "id": "e4c11895-cbc1-49cc-ad2c-88344b3aa3fd",
   "metadata": {},
   "outputs": [],
   "source": [
    "reg=LinearRegression().fit(x_train,y_train)"
   ]
  },
  {
   "cell_type": "code",
   "execution_count": 242,
   "id": "ebd41db0-3f9d-424a-ac95-28c88075331a",
   "metadata": {},
   "outputs": [
    {
     "data": {
      "text/plain": [
       "0.6466125140836493"
      ]
     },
     "execution_count": 242,
     "metadata": {},
     "output_type": "execute_result"
    }
   ],
   "source": [
    "reg.score(x_train,y_train)"
   ]
  },
  {
   "cell_type": "code",
   "execution_count": 243,
   "id": "f9e7e634-327e-47ec-8fdc-ea8498965c0c",
   "metadata": {},
   "outputs": [
    {
     "data": {
      "text/plain": [
       "array([-53475.37167331, -54138.55533858,  13463.34149805, -11904.01486862,\n",
       "        32981.79863478, -43234.00673208,  26951.63483258,  74322.84872906,\n",
       "         5833.49711216, -12713.85207835,   3201.3265078 ,   5949.44994858])"
      ]
     },
     "execution_count": 243,
     "metadata": {},
     "output_type": "execute_result"
    }
   ],
   "source": [
    "reg.coef_"
   ]
  },
  {
   "cell_type": "code",
   "execution_count": 244,
   "id": "b85ad4b1-82df-452c-889d-cd617888a35e",
   "metadata": {},
   "outputs": [
    {
     "data": {
      "text/plain": [
       "Index(['longitude', 'latitude', 'housing_median_age', 'total_rooms',\n",
       "       'total_bedrooms', 'population', 'households', 'median_income',\n",
       "       'median_house_value', '<1H OCEAN', 'INLAND', 'NEAR BAY', 'NEAR OCEAN'],\n",
       "      dtype='object')"
      ]
     },
     "execution_count": 244,
     "metadata": {},
     "output_type": "execute_result"
    }
   ],
   "source": [
    "df.columns"
   ]
  },
  {
   "cell_type": "code",
   "execution_count": 245,
   "id": "f08ee1e5-1297-4be1-b3f3-196ea650178e",
   "metadata": {},
   "outputs": [
    {
     "data": {
      "text/plain": [
       "207735.06419573637"
      ]
     },
     "execution_count": 245,
     "metadata": {},
     "output_type": "execute_result"
    }
   ],
   "source": [
    "reg.intercept_"
   ]
  },
  {
   "cell_type": "code",
   "execution_count": 246,
   "id": "b1299514-d277-48ed-9dd6-08488ad6ef39",
   "metadata": {},
   "outputs": [],
   "source": [
    "y_pred=reg.predict(x_test)"
   ]
  },
  {
   "cell_type": "code",
   "execution_count": 247,
   "id": "67cde44a-5481-488c-8da3-c199eb3a2572",
   "metadata": {},
   "outputs": [],
   "source": [
    "from sklearn.metrics import mean_squared_error\n",
    "\n",
    "rmse = mean_squared_error(y_test, y_pred, squared=False)"
   ]
  },
  {
   "cell_type": "code",
   "execution_count": 248,
   "id": "96245de8-1103-4a8c-98bc-cd2870bc8de1",
   "metadata": {},
   "outputs": [
    {
     "name": "stdout",
     "output_type": "stream",
     "text": [
      "68954.94981550466\n"
     ]
    }
   ],
   "source": [
    "print(rmse)"
   ]
  },
  {
   "cell_type": "code",
   "execution_count": 250,
   "id": "aa8e1bbf-9c89-429a-ae38-c6bd6e01bd50",
   "metadata": {},
   "outputs": [],
   "source": [
    "pred_df=pd.DataFrame({'actual':y_test, 'pred':y_pred})"
   ]
  },
  {
   "cell_type": "code",
   "execution_count": 253,
   "id": "832fec1d-4d0b-4fde-b092-ffd0a691c873",
   "metadata": {},
   "outputs": [
    {
     "data": {
      "text/plain": [
       "<AxesSubplot:xlabel='actual'>"
      ]
     },
     "execution_count": 253,
     "metadata": {},
     "output_type": "execute_result"
    },
    {
     "data": {
      "image/png": "[encoded data removed]",
      "text/plain": [
       "<Figure size 432x288 with 1 Axes>"
      ]
     },
     "metadata": {
      "needs_background": "light"
     },
     "output_type": "display_data"
    }
   ],
   "source": [
    "pred_df.plot(x='actual',y='pred')"
   ]
  },
  {
   "cell_type": "code",
   "execution_count": 256,
   "id": "f7c28ecc-59a7-4b46-a4e5-dad934840208",
   "metadata": {},
   "outputs": [
    {
     "data": {
      "text/plain": [
       "[<matplotlib.lines.Line2D at 0x7f9c52262890>]"
      ]
     },
     "execution_count": 256,
     "metadata": {},
     "output_type": "execute_result"
    },
    {
     "data": {
      "image/png": "[encoded data removed]",
      "text/plain": [
       "<Figure size 432x288 with 1 Axes>"
      ]
     },
     "metadata": {
      "needs_background": "light"
     },
     "output_type": "display_data"
    }
   ],
   "source": [
    "%matplotlib inline\n",
    "\n",
    "import matplotlib.pyplot as plt\n",
    "plt.plot(pred_df.actual, 'o')\n",
    "plt.plot(pred_df.pred, 'o')\n"
   ]
  },
  {
   "cell_type": "code",
   "execution_count": null,
   "id": "99e6fd77-f088-4d6f-ac5d-3d59010ea384",
   "metadata": {},
   "outputs": [],
   "source": []
  },
  {
   "cell_type": "code",
   "execution_count": 196,
   "id": "a1660a3b-40ae-4d16-a6e2-4e2a9dc53aae",
   "metadata": {},
   "outputs": [],
   "source": [
    "# bonus exerice - extract relevant vars"
   ]
  },
  {
   "cell_type": "code",
   "execution_count": 199,
   "id": "e26a64a6-9b7d-452e-aa0e-4e0bf3d1417f",
   "metadata": {},
   "outputs": [],
   "source": [
    "model=LinearRegression(fit_intercept=True)\n",
    "model.fit(x_train,y_train)\n",
    "\n",
    "y_pred_n=model.predict(x_test)"
   ]
  },
  {
   "cell_type": "code",
   "execution_count": 200,
   "id": "315ec2a5-dcf3-413a-824c-b51028ebbfe5",
   "metadata": {},
   "outputs": [],
   "source": [
    "pred_df_n=pd.DataFrame({'actual': y_test, 'pred': y_pred_n,})"
   ]
  },
  {
   "cell_type": "code",
   "execution_count": 252,
   "id": "486fadad-a280-44a5-9e97-4f8057dd2f76",
   "metadata": {},
   "outputs": [
    {
     "data": {
      "text/plain": [
       "<AxesSubplot:xlabel='actual'>"
      ]
     },
     "execution_count": 252,
     "metadata": {},
     "output_type": "execute_result"
    },
    {
     "data": {
      "image/png": "[encoded data removed]",
      "text/plain": [
       "<Figure size 432x288 with 1 Axes>"
      ]
     },
     "metadata": {
      "needs_background": "light"
     },
     "output_type": "display_data"
    }
   ],
   "source": [
    "pred_df.plot(x='actual',y='pred')"
   ]
  },
  {
   "cell_type": "code",
   "execution_count": null,
   "id": "d45c9496-62fa-42ab-82a6-57c383aebae0",
   "metadata": {},
   "outputs": [],
   "source": []
  },
  {
   "cell_type": "code",
   "execution_count": 202,
   "id": "428fc8ca-e9ca-4323-8908-7ed82231e8b0",
   "metadata": {},
   "outputs": [
    {
     "data": {
      "text/plain": [
       "0.6375071818640171"
      ]
     },
     "execution_count": 202,
     "metadata": {},
     "output_type": "execute_result"
    }
   ],
   "source": [
    "model.score(x_test,y_test)"
   ]
  },
  {
   "cell_type": "code",
   "execution_count": null,
   "id": "a348f11f-ba83-4175-9cf8-17faae21ca56",
   "metadata": {},
   "outputs": [],
   "source": []
  }
 ],
 "metadata": {
  "kernelspec": {
   "display_name": "Python 3 (ipykernel)",
   "language": "python",
   "name": "python3"
  },
  "language_info": {
   "codemirror_mode": {
    "name": "ipython",
    "version": 3
   },
   "file_extension": ".py",
   "mimetype": "text/x-python",
   "name": "python",
   "nbconvert_exporter": "python",
   "pygments_lexer": "ipython3",
   "version": "3.7.4"
  }
 },
 "nbformat": 4,
 "nbformat_minor": 5
}
