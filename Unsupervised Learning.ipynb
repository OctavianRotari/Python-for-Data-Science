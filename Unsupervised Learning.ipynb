{
 "cells": [
  {
   "cell_type": "markdown",
   "id": "9229be57-a5e4-453a-a239-63663c2aa635",
   "metadata": {},
   "source": [
    "# Unsupervised Learning Models K-Means Clustering"
   ]
  },
  {
   "cell_type": "code",
   "execution_count": 4,
   "id": "9546380e-2b94-4fda-971b-5518350d09e6",
   "metadata": {},
   "outputs": [],
   "source": [
    "import numpy as np\n",
    "import pandas as pd\n",
    "\n",
    "from sklearn.cluster import KMeans\n",
    "from sklearn.datasets import make_blobs"
   ]
  },
  {
   "cell_type": "code",
   "execution_count": 6,
   "id": "a0005050-c386-4574-bb49-f39095843252",
   "metadata": {},
   "outputs": [],
   "source": [
    "n_samples=300\n",
    "random_state=20\n",
    "\n",
    "X,y=make_blobs(n_samples=n_samples,n_features=5,random_state=None)"
   ]
  },
  {
   "cell_type": "code",
   "execution_count": 7,
   "id": "c2ac2fe0-22b8-4558-b7e9-9d1c8c6d878d",
   "metadata": {},
   "outputs": [],
   "source": [
    "predict_y=KMeans(n_clusters=3,random_state=random_state).fit_predict(X)"
   ]
  },
  {
   "cell_type": "code",
   "execution_count": 8,
   "id": "2c51a523-b4ad-49a0-94bc-8f1c77b84b92",
   "metadata": {},
   "outputs": [
    {
     "data": {
      "text/plain": [
       "array([0, 2, 1, 1, 2, 0, 2, 0, 0, 0, 1, 0, 2, 0, 2, 1, 1, 2, 1, 2, 0, 2,\n",
       "       2, 0, 1, 1, 1, 1, 2, 0, 0, 0, 2, 0, 1, 1, 0, 2, 0, 2, 2, 1, 0, 1,\n",
       "       1, 2, 2, 2, 1, 2, 1, 0, 1, 0, 1, 1, 0, 2, 1, 1, 1, 2, 1, 0, 1, 1,\n",
       "       0, 1, 0, 2, 2, 1, 0, 0, 0, 1, 2, 1, 1, 1, 1, 0, 0, 0, 0, 2, 2, 1,\n",
       "       2, 0, 0, 1, 0, 2, 2, 2, 2, 2, 0, 0, 0, 2, 2, 2, 0, 0, 1, 1, 0, 2,\n",
       "       1, 2, 0, 1, 0, 0, 2, 0, 0, 0, 1, 0, 1, 1, 0, 2, 1, 1, 2, 0, 2, 1,\n",
       "       0, 0, 1, 0, 1, 2, 2, 0, 0, 0, 0, 1, 1, 0, 0, 1, 0, 1, 1, 0, 2, 2,\n",
       "       1, 2, 1, 1, 1, 2, 2, 1, 1, 0, 1, 0, 0, 1, 0, 1, 0, 2, 0, 1, 1, 1,\n",
       "       2, 2, 0, 2, 1, 1, 2, 1, 2, 1, 2, 1, 0, 2, 0, 2, 2, 0, 0, 2, 2, 1,\n",
       "       1, 0, 0, 0, 0, 2, 0, 2, 1, 2, 1, 0, 2, 0, 2, 0, 2, 1, 2, 1, 2, 2,\n",
       "       2, 1, 2, 1, 1, 0, 1, 2, 1, 1, 1, 2, 0, 0, 2, 1, 1, 1, 0, 0, 1, 2,\n",
       "       2, 2, 2, 1, 2, 2, 1, 2, 0, 0, 1, 0, 0, 0, 0, 2, 0, 2, 2, 0, 2, 1,\n",
       "       0, 2, 2, 1, 0, 2, 0, 2, 1, 1, 1, 1, 2, 2, 0, 1, 1, 2, 2, 2, 2, 2,\n",
       "       2, 0, 0, 2, 2, 0, 0, 0, 2, 0, 1, 1, 2, 1], dtype=int32)"
      ]
     },
     "execution_count": 8,
     "metadata": {},
     "output_type": "execute_result"
    }
   ],
   "source": [
    "predict_y"
   ]
  },
  {
   "cell_type": "markdown",
   "id": "8790f078-d87e-4d1b-b83b-5611a8c62cd5",
   "metadata": {},
   "source": [
    "# PCA Model - to reduce dimension"
   ]
  },
  {
   "cell_type": "code",
   "execution_count": 10,
   "id": "beb05a4d-f4da-4a42-8cff-ea0aed1b41a5",
   "metadata": {},
   "outputs": [],
   "source": [
    "from sklearn.decomposition import PCA\n",
    "from sklearn.datasets import make_blobs"
   ]
  },
  {
   "cell_type": "code",
   "execution_count": 11,
   "id": "455f9e58-e8ae-46a6-a849-444afa9e3bf4",
   "metadata": {},
   "outputs": [],
   "source": [
    "n_sample=20\n",
    "random_state=20"
   ]
  },
  {
   "cell_type": "code",
   "execution_count": 12,
   "id": "34039f99-213d-4e3d-a91f-2b69b2c95104",
   "metadata": {},
   "outputs": [],
   "source": [
    "X,y=make_blobs(n_samples=n_sample,n_features=10,random_state=None)"
   ]
  },
  {
   "cell_type": "code",
   "execution_count": 13,
   "id": "08e3b13a-0268-4749-9bbd-1177425e9c2d",
   "metadata": {},
   "outputs": [
    {
     "data": {
      "text/plain": [
       "(20, 10)"
      ]
     },
     "execution_count": 13,
     "metadata": {},
     "output_type": "execute_result"
    }
   ],
   "source": [
    "X.shape"
   ]
  },
  {
   "cell_type": "code",
   "execution_count": 14,
   "id": "f1bd9839-c3e9-4820-aaf0-8711399a115d",
   "metadata": {},
   "outputs": [],
   "source": [
    "# how do we reducer from 10 to 3"
   ]
  },
  {
   "cell_type": "code",
   "execution_count": 15,
   "id": "52f19182-f9e7-4199-9733-2840b98d1690",
   "metadata": {},
   "outputs": [],
   "source": [
    "pca=PCA(n_components=3)"
   ]
  },
  {
   "cell_type": "code",
   "execution_count": 16,
   "id": "40609d85-cfc0-43fc-b59a-bcdbd3e5a321",
   "metadata": {},
   "outputs": [
    {
     "data": {
      "text/plain": [
       "PCA(n_components=3)"
      ]
     },
     "execution_count": 16,
     "metadata": {},
     "output_type": "execute_result"
    }
   ],
   "source": [
    "pca.fit(X)"
   ]
  },
  {
   "cell_type": "code",
   "execution_count": 18,
   "id": "fdde104d-a738-4ff4-a107-2ee50b8c0988",
   "metadata": {},
   "outputs": [
    {
     "name": "stdout",
     "output_type": "stream",
     "text": [
      "[0.63772954 0.3320816  0.00985378]\n"
     ]
    }
   ],
   "source": [
    "print(pca.explained_variance_ratio_)"
   ]
  },
  {
   "cell_type": "code",
   "execution_count": 19,
   "id": "9879e8cc-e839-4edf-8afc-ae38bcd723db",
   "metadata": {},
   "outputs": [],
   "source": [
    "first_pca=pca.components_[0]"
   ]
  },
  {
   "cell_type": "code",
   "execution_count": 20,
   "id": "4fda3ab1-b495-458b-bd0c-f46c9a0d37d5",
   "metadata": {},
   "outputs": [
    {
     "name": "stdout",
     "output_type": "stream",
     "text": [
      "[ 0.07154948  0.45315801  0.47774412 -0.25636789 -0.16825057  0.28976394\n",
      " -0.38594849 -0.22539537  0.41413833  0.10965073]\n"
     ]
    }
   ],
   "source": [
    "print(first_pca)"
   ]
  },
  {
   "cell_type": "code",
   "execution_count": 21,
   "id": "a4b387c8-0d99-4e07-a4a2-4480c0a34fa0",
   "metadata": {},
   "outputs": [],
   "source": [
    "pca_reduced=pca.transform(X)"
   ]
  },
  {
   "cell_type": "code",
   "execution_count": 22,
   "id": "f33ae216-4a9e-4a3f-8a2e-2ed8925bb01e",
   "metadata": {},
   "outputs": [
    {
     "data": {
      "text/plain": [
       "array([[ -8.23306681,  12.30149967,   0.13392737],\n",
       "       [ -9.71171599,  -8.75671532,   0.23555782],\n",
       "       [ -5.87362307,  12.89025213,  -2.00862056],\n",
       "       [ 18.29469969,  -1.46804732,  -1.73438523],\n",
       "       [ 17.35920459,  -1.28540166,  -2.74399892],\n",
       "       [ -6.78177138,  12.77251447,  -0.44080735],\n",
       "       [-10.17382994,  -8.80285879,   2.40485193],\n",
       "       [-10.7973969 ,  -8.91360092,   0.51202126],\n",
       "       [ -5.69565386,  12.50030536,  -0.25102203],\n",
       "       [-10.88428268,  -8.00333931,  -1.02187253],\n",
       "       [ 16.32483512,  -1.16686124,   2.47842367],\n",
       "       [ 16.1374441 ,  -1.14440532,   1.01054124],\n",
       "       [-10.86768311,  -9.7430335 ,  -0.61868521],\n",
       "       [ -7.23300314,  13.57810541,   1.83286594],\n",
       "       [ -7.73969707,  11.18704704,   0.56632019],\n",
       "       [ 14.61791335,  -1.63887482,  -0.02745007],\n",
       "       [ 17.30120555,  -2.25190778,   2.75315668],\n",
       "       [-10.51750071, -10.90166826,  -1.85470903],\n",
       "       [ 15.92097425,  -1.35040989,  -1.50596012],\n",
       "       [-11.44705201,  -9.80259995,   0.27984495]])"
      ]
     },
     "execution_count": 22,
     "metadata": {},
     "output_type": "execute_result"
    }
   ],
   "source": [
    "pca_reduced"
   ]
  },
  {
   "cell_type": "code",
   "execution_count": null,
   "id": "e1493ea7-a9f9-4f11-880b-a31fb7d189e9",
   "metadata": {},
   "outputs": [],
   "source": []
  }
 ],
 "metadata": {
  "kernelspec": {
   "display_name": "Python 3 (ipykernel)",
   "language": "python",
   "name": "python3"
  },
  "language_info": {
   "codemirror_mode": {
    "name": "ipython",
    "version": 3
   },
   "file_extension": ".py",
   "mimetype": "text/x-python",
   "name": "python",
   "nbconvert_exporter": "python",
   "pygments_lexer": "ipython3",
   "version": "3.7.4"
  }
 },
 "nbformat": 4,
 "nbformat_minor": 5
}
